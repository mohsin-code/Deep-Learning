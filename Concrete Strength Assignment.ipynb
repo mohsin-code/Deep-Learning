{
  "nbformat": 4,
  "nbformat_minor": 0,
  "metadata": {
    "kernelspec": {
      "display_name": "Python 3",
      "language": "python",
      "name": "python3"
    },
    "language_info": {
      "codemirror_mode": {
        "name": "ipython",
        "version": 3
      },
      "file_extension": ".py",
      "mimetype": "text/x-python",
      "name": "python",
      "nbconvert_exporter": "python",
      "pygments_lexer": "ipython3",
      "version": "3.7.3"
    },
    "colab": {
      "name": "Concrete Strength Assignment.ipynb",
      "provenance": [],
      "include_colab_link": true
    }
  },
  "cells": [
    {
      "cell_type": "markdown",
      "metadata": {
        "id": "view-in-github",
        "colab_type": "text"
      },
      "source": [
        "<a href=\"https://colab.research.google.com/github/mohsin-code/Deep-Learning/blob/main/Concrete%20Strength%20Assignment.ipynb\" target=\"_parent\"><img src=\"https://colab.research.google.com/assets/colab-badge.svg\" alt=\"Open In Colab\"/></a>"
      ]
    },
    {
      "cell_type": "markdown",
      "metadata": {
        "id": "eT8YYHtMtnTu"
      },
      "source": [
        "# Assignment: Compresive Strength Concrete Problem\n",
        "\n",
        "\n",
        "### Abstract: \n",
        "\n",
        "Concrete is the most important material in civil engineering. The concrete compressive strength (concrete strength to bear the load) is a highly nonlinear function of age and ingredients.  <br><br>\n",
        "\n",
        "<table border=\"1\"  cellpadding=\"6\" bordercolor=\"red\">\n",
        "\t<tbody>\n",
        "        <tr>\n",
        "\t\t<td bgcolor=\"#DDEEFF\"><p class=\"normal\"><b>Data Set Characteristics:&nbsp;&nbsp;</b></p></td>\n",
        "\t\t<td><p class=\"normal\">Multivariate</p></td>\n",
        "\t\t<td bgcolor=\"#DDEEFF\"><p class=\"normal\"><b>Number of Instances:</b></p></td>\n",
        "\t\t<td><p class=\"normal\">1030</p></td>\n",
        "\t\t<td bgcolor=\"#DDEEFF\"><p class=\"normal\"><b>Area:</b></p></td>\n",
        "\t\t<td><p class=\"normal\">Physical</p></td>\n",
        "        </tr>\n",
        "     </tbody>\n",
        "    </table>\n",
        "<table border=\"1\" cellpadding=\"6\">\n",
        "    <tbody>\n",
        "        <tr>\n",
        "            <td bgcolor=\"#DDEEFF\"><p class=\"normal\"><b>Attribute Characteristics:</b></p></td>\n",
        "            <td><p class=\"normal\">Real</p></td>\n",
        "            <td bgcolor=\"#DDEEFF\"><p class=\"normal\"><b>Number of Attributes:</b></p></td>\n",
        "            <td><p class=\"normal\">9</p></td>\n",
        "            <td bgcolor=\"#DDEEFF\"><p class=\"normal\"><b>Date Donated</b></p></td>\n",
        "            <td><p class=\"normal\">2007-08-03</p></td>\n",
        "        </tr>\n",
        "     </tbody>\n",
        "    </table>\n",
        "<table border=\"1\" cellpadding=\"6\">\t\n",
        "    <tbody>\n",
        "    <tr>\n",
        "\t\t<td bgcolor=\"#DDEEFF\"><p class=\"normal\"><b>Associated Tasks:</b></p></td>\n",
        "\t\t<td><p class=\"normal\">Regression</p></td>\n",
        "\t\t<td bgcolor=\"#DDEEFF\"><p class=\"normal\"><b>Missing Values?</b></p></td>\n",
        "\t\t<td><p class=\"normal\">N/A</p></td>\n",
        "\t\t<td bgcolor=\"#DDEEFF\"><p class=\"normal\"><b>Number of Web Hits:</b></p></td>\n",
        "\t\t<td><p class=\"normal\">231464</p></td>\n",
        "\t</tr>\n",
        "    </tbody>\n",
        "    </table>"
      ]
    },
    {
      "cell_type": "markdown",
      "metadata": {
        "id": "1e6XFHiltnT_"
      },
      "source": [
        "###  Description:\n",
        "| Features Name | Data Type | Measurement | Description |\n",
        "| -- | -- | -- | -- |\n",
        "Cement (component 1) | quantitative | kg in a m3 mixture | Input Variable\n",
        "Blast Furnace Slag (component 2) | quantitative | kg in a m3 mixture | Input Variable\n",
        "Fly Ash (component 3) | quantitative | kg in a m3 mixture | Input Variable\n",
        "Water (component 4) | quantitative | kg in a m3 mixture | Input Variable\n",
        "Superplasticizer (component 5) | quantitative | kg in a m3 mixture | Input Variable\n",
        "Coarse Aggregate (component 6) | quantitative | kg in a m3 mixture | Input Variable\n",
        "Fine Aggregate (component 7) | quantitative | kg in a m3 mixture | Input Variable\n",
        "Age | quantitative | Day (1~365) | Input Variable\n",
        "Concrete compressive strength | quantitative | MPa | Output Variable\n",
        "\n",
        "### WORKFLOW :\n",
        "- Load Data\n",
        "- Check Missing Values ( If Exist ; Fill each record with mean of its feature )\n",
        "- Standardized the Input Variables. **Hint**: Centeralized the data\n",
        "- Split into 50% Training(Samples,Labels) , 30% Test(Samples,Labels) and 20% Validation Data(Samples,Labels).\n",
        "- Model : input Layer (No. of features ), 3 hidden layers including 10,8,6 unit & Output Layer with activation function relu/tanh (check by experiment).\n",
        "- Compilation Step (Note : Its a Regression problem , select loss , metrics according to it)\n",
        "- Train the Model with Epochs (100) and validate it\n",
        "- If the model gets overfit tune your model by changing the units , No. of layers , activation function , epochs , add dropout layer or add Regularizer according to the need .\n",
        "- Evaluation Step\n",
        "- Prediction\n"
      ]
    },
    {
      "cell_type": "markdown",
      "metadata": {
        "id": "4gBvomN7tnUB"
      },
      "source": [
        "# Load Data:\n",
        "[Click Here to Download DataSet](https://github.com/ramsha275/ML_Datasets/blob/main/compresive_strength_concrete.csv)"
      ]
    },
    {
      "cell_type": "code",
      "metadata": {
        "id": "EKapVVS7tnUC",
        "outputId": "98386d83-dbe6-47aa-ceb1-05f51b45c71e",
        "colab": {
          "base_uri": "https://localhost:8080/",
          "height": 255
        }
      },
      "source": [
        "import pandas as pd\n",
        "import numpy as np\n",
        "import matplotlib.pyplot as plt\n",
        "\n",
        "data = pd.read_csv(\"https://raw.githubusercontent.com/ramsha275/ML_Datasets/main/compresive_strength_concrete.csv\") \n",
        "data.head()"
      ],
      "execution_count": 1,
      "outputs": [
        {
          "output_type": "execute_result",
          "data": {
            "text/html": [
              "<div>\n",
              "<style scoped>\n",
              "    .dataframe tbody tr th:only-of-type {\n",
              "        vertical-align: middle;\n",
              "    }\n",
              "\n",
              "    .dataframe tbody tr th {\n",
              "        vertical-align: top;\n",
              "    }\n",
              "\n",
              "    .dataframe thead th {\n",
              "        text-align: right;\n",
              "    }\n",
              "</style>\n",
              "<table border=\"1\" class=\"dataframe\">\n",
              "  <thead>\n",
              "    <tr style=\"text-align: right;\">\n",
              "      <th></th>\n",
              "      <th>Cement (component 1)(kg in a m^3 mixture)</th>\n",
              "      <th>Blast Furnace Slag (component 2)(kg in a m^3 mixture)</th>\n",
              "      <th>Fly Ash (component 3)(kg in a m^3 mixture)</th>\n",
              "      <th>Water  (component 4)(kg in a m^3 mixture)</th>\n",
              "      <th>Superplasticizer (component 5)(kg in a m^3 mixture)</th>\n",
              "      <th>Coarse Aggregate  (component 6)(kg in a m^3 mixture)</th>\n",
              "      <th>Fine Aggregate (component 7)(kg in a m^3 mixture)</th>\n",
              "      <th>Age (day)</th>\n",
              "      <th>Concrete compressive strength(MPa, megapascals)</th>\n",
              "    </tr>\n",
              "  </thead>\n",
              "  <tbody>\n",
              "    <tr>\n",
              "      <th>0</th>\n",
              "      <td>540.0</td>\n",
              "      <td>0.0</td>\n",
              "      <td>0.0</td>\n",
              "      <td>162.0</td>\n",
              "      <td>2.5</td>\n",
              "      <td>1040.0</td>\n",
              "      <td>676.0</td>\n",
              "      <td>28</td>\n",
              "      <td>79.99</td>\n",
              "    </tr>\n",
              "    <tr>\n",
              "      <th>1</th>\n",
              "      <td>540.0</td>\n",
              "      <td>0.0</td>\n",
              "      <td>0.0</td>\n",
              "      <td>162.0</td>\n",
              "      <td>2.5</td>\n",
              "      <td>1055.0</td>\n",
              "      <td>676.0</td>\n",
              "      <td>28</td>\n",
              "      <td>61.89</td>\n",
              "    </tr>\n",
              "    <tr>\n",
              "      <th>2</th>\n",
              "      <td>332.5</td>\n",
              "      <td>142.5</td>\n",
              "      <td>0.0</td>\n",
              "      <td>228.0</td>\n",
              "      <td>0.0</td>\n",
              "      <td>932.0</td>\n",
              "      <td>594.0</td>\n",
              "      <td>270</td>\n",
              "      <td>40.27</td>\n",
              "    </tr>\n",
              "    <tr>\n",
              "      <th>3</th>\n",
              "      <td>332.5</td>\n",
              "      <td>142.5</td>\n",
              "      <td>0.0</td>\n",
              "      <td>228.0</td>\n",
              "      <td>0.0</td>\n",
              "      <td>932.0</td>\n",
              "      <td>594.0</td>\n",
              "      <td>365</td>\n",
              "      <td>41.05</td>\n",
              "    </tr>\n",
              "    <tr>\n",
              "      <th>4</th>\n",
              "      <td>198.6</td>\n",
              "      <td>132.4</td>\n",
              "      <td>0.0</td>\n",
              "      <td>192.0</td>\n",
              "      <td>0.0</td>\n",
              "      <td>978.4</td>\n",
              "      <td>825.5</td>\n",
              "      <td>360</td>\n",
              "      <td>44.30</td>\n",
              "    </tr>\n",
              "  </tbody>\n",
              "</table>\n",
              "</div>"
            ],
            "text/plain": [
              "   Cement (component 1)(kg in a m^3 mixture)  ...  Concrete compressive strength(MPa, megapascals) \n",
              "0                                      540.0  ...                                             79.99\n",
              "1                                      540.0  ...                                             61.89\n",
              "2                                      332.5  ...                                             40.27\n",
              "3                                      332.5  ...                                             41.05\n",
              "4                                      198.6  ...                                             44.30\n",
              "\n",
              "[5 rows x 9 columns]"
            ]
          },
          "metadata": {
            "tags": []
          },
          "execution_count": 1
        }
      ]
    },
    {
      "cell_type": "code",
      "metadata": {
        "id": "zax_LmkbwcoK",
        "outputId": "0b4dea72-7ff0-4f39-c4d8-169d965b77fc",
        "colab": {
          "base_uri": "https://localhost:8080/",
          "height": 348
        }
      },
      "source": [
        "data.describe()"
      ],
      "execution_count": 2,
      "outputs": [
        {
          "output_type": "execute_result",
          "data": {
            "text/html": [
              "<div>\n",
              "<style scoped>\n",
              "    .dataframe tbody tr th:only-of-type {\n",
              "        vertical-align: middle;\n",
              "    }\n",
              "\n",
              "    .dataframe tbody tr th {\n",
              "        vertical-align: top;\n",
              "    }\n",
              "\n",
              "    .dataframe thead th {\n",
              "        text-align: right;\n",
              "    }\n",
              "</style>\n",
              "<table border=\"1\" class=\"dataframe\">\n",
              "  <thead>\n",
              "    <tr style=\"text-align: right;\">\n",
              "      <th></th>\n",
              "      <th>Cement (component 1)(kg in a m^3 mixture)</th>\n",
              "      <th>Blast Furnace Slag (component 2)(kg in a m^3 mixture)</th>\n",
              "      <th>Fly Ash (component 3)(kg in a m^3 mixture)</th>\n",
              "      <th>Water  (component 4)(kg in a m^3 mixture)</th>\n",
              "      <th>Superplasticizer (component 5)(kg in a m^3 mixture)</th>\n",
              "      <th>Coarse Aggregate  (component 6)(kg in a m^3 mixture)</th>\n",
              "      <th>Fine Aggregate (component 7)(kg in a m^3 mixture)</th>\n",
              "      <th>Age (day)</th>\n",
              "      <th>Concrete compressive strength(MPa, megapascals)</th>\n",
              "    </tr>\n",
              "  </thead>\n",
              "  <tbody>\n",
              "    <tr>\n",
              "      <th>count</th>\n",
              "      <td>1030.000000</td>\n",
              "      <td>1030.000000</td>\n",
              "      <td>1030.000000</td>\n",
              "      <td>1030.000000</td>\n",
              "      <td>1030.000000</td>\n",
              "      <td>1030.000000</td>\n",
              "      <td>1030.000000</td>\n",
              "      <td>1030.000000</td>\n",
              "      <td>1030.000000</td>\n",
              "    </tr>\n",
              "    <tr>\n",
              "      <th>mean</th>\n",
              "      <td>281.167864</td>\n",
              "      <td>73.895825</td>\n",
              "      <td>54.188350</td>\n",
              "      <td>181.567282</td>\n",
              "      <td>6.204660</td>\n",
              "      <td>972.918932</td>\n",
              "      <td>773.580485</td>\n",
              "      <td>45.662136</td>\n",
              "      <td>35.817961</td>\n",
              "    </tr>\n",
              "    <tr>\n",
              "      <th>std</th>\n",
              "      <td>104.506364</td>\n",
              "      <td>86.279342</td>\n",
              "      <td>63.997004</td>\n",
              "      <td>21.354219</td>\n",
              "      <td>5.973841</td>\n",
              "      <td>77.753954</td>\n",
              "      <td>80.175980</td>\n",
              "      <td>63.169912</td>\n",
              "      <td>16.705742</td>\n",
              "    </tr>\n",
              "    <tr>\n",
              "      <th>min</th>\n",
              "      <td>102.000000</td>\n",
              "      <td>0.000000</td>\n",
              "      <td>0.000000</td>\n",
              "      <td>121.800000</td>\n",
              "      <td>0.000000</td>\n",
              "      <td>801.000000</td>\n",
              "      <td>594.000000</td>\n",
              "      <td>1.000000</td>\n",
              "      <td>2.330000</td>\n",
              "    </tr>\n",
              "    <tr>\n",
              "      <th>25%</th>\n",
              "      <td>192.375000</td>\n",
              "      <td>0.000000</td>\n",
              "      <td>0.000000</td>\n",
              "      <td>164.900000</td>\n",
              "      <td>0.000000</td>\n",
              "      <td>932.000000</td>\n",
              "      <td>730.950000</td>\n",
              "      <td>7.000000</td>\n",
              "      <td>23.710000</td>\n",
              "    </tr>\n",
              "    <tr>\n",
              "      <th>50%</th>\n",
              "      <td>272.900000</td>\n",
              "      <td>22.000000</td>\n",
              "      <td>0.000000</td>\n",
              "      <td>185.000000</td>\n",
              "      <td>6.400000</td>\n",
              "      <td>968.000000</td>\n",
              "      <td>779.500000</td>\n",
              "      <td>28.000000</td>\n",
              "      <td>34.445000</td>\n",
              "    </tr>\n",
              "    <tr>\n",
              "      <th>75%</th>\n",
              "      <td>350.000000</td>\n",
              "      <td>142.950000</td>\n",
              "      <td>118.300000</td>\n",
              "      <td>192.000000</td>\n",
              "      <td>10.200000</td>\n",
              "      <td>1029.400000</td>\n",
              "      <td>824.000000</td>\n",
              "      <td>56.000000</td>\n",
              "      <td>46.135000</td>\n",
              "    </tr>\n",
              "    <tr>\n",
              "      <th>max</th>\n",
              "      <td>540.000000</td>\n",
              "      <td>359.400000</td>\n",
              "      <td>200.100000</td>\n",
              "      <td>247.000000</td>\n",
              "      <td>32.200000</td>\n",
              "      <td>1145.000000</td>\n",
              "      <td>992.600000</td>\n",
              "      <td>365.000000</td>\n",
              "      <td>82.600000</td>\n",
              "    </tr>\n",
              "  </tbody>\n",
              "</table>\n",
              "</div>"
            ],
            "text/plain": [
              "       Cement (component 1)(kg in a m^3 mixture)  ...  Concrete compressive strength(MPa, megapascals) \n",
              "count                                1030.000000  ...                                       1030.000000\n",
              "mean                                  281.167864  ...                                         35.817961\n",
              "std                                   104.506364  ...                                         16.705742\n",
              "min                                   102.000000  ...                                          2.330000\n",
              "25%                                   192.375000  ...                                         23.710000\n",
              "50%                                   272.900000  ...                                         34.445000\n",
              "75%                                   350.000000  ...                                         46.135000\n",
              "max                                   540.000000  ...                                         82.600000\n",
              "\n",
              "[8 rows x 9 columns]"
            ]
          },
          "metadata": {
            "tags": []
          },
          "execution_count": 2
        }
      ]
    },
    {
      "cell_type": "markdown",
      "metadata": {
        "id": "gyWBc28txXWz"
      },
      "source": [
        "# Check Missing Values:"
      ]
    },
    {
      "cell_type": "code",
      "metadata": {
        "id": "QMNxnGZ1wmbD",
        "outputId": "3632b2c1-a16a-4506-8b59-7acf104d47f9",
        "colab": {
          "base_uri": "https://localhost:8080/"
        }
      },
      "source": [
        "data.isnull().sum()"
      ],
      "execution_count": 3,
      "outputs": [
        {
          "output_type": "execute_result",
          "data": {
            "text/plain": [
              "Cement (component 1)(kg in a m^3 mixture)                0\n",
              "Blast Furnace Slag (component 2)(kg in a m^3 mixture)    0\n",
              "Fly Ash (component 3)(kg in a m^3 mixture)               0\n",
              "Water  (component 4)(kg in a m^3 mixture)                0\n",
              "Superplasticizer (component 5)(kg in a m^3 mixture)      0\n",
              "Coarse Aggregate  (component 6)(kg in a m^3 mixture)     0\n",
              "Fine Aggregate (component 7)(kg in a m^3 mixture)        0\n",
              "Age (day)                                                0\n",
              "Concrete compressive strength(MPa, megapascals)          0\n",
              "dtype: int64"
            ]
          },
          "metadata": {
            "tags": []
          },
          "execution_count": 3
        }
      ]
    },
    {
      "cell_type": "markdown",
      "metadata": {
        "id": "xZRI45Qhxwdx"
      },
      "source": [
        "# Standardized the Input Variables:"
      ]
    },
    {
      "cell_type": "code",
      "metadata": {
        "id": "ETbqSjHPwp_e",
        "outputId": "3cac9e09-22e7-42e3-bcd1-67a9c49ca37c",
        "colab": {
          "base_uri": "https://localhost:8080/",
          "height": 892
        }
      },
      "source": [
        "data.corr()"
      ],
      "execution_count": 4,
      "outputs": [
        {
          "output_type": "execute_result",
          "data": {
            "text/html": [
              "<div>\n",
              "<style scoped>\n",
              "    .dataframe tbody tr th:only-of-type {\n",
              "        vertical-align: middle;\n",
              "    }\n",
              "\n",
              "    .dataframe tbody tr th {\n",
              "        vertical-align: top;\n",
              "    }\n",
              "\n",
              "    .dataframe thead th {\n",
              "        text-align: right;\n",
              "    }\n",
              "</style>\n",
              "<table border=\"1\" class=\"dataframe\">\n",
              "  <thead>\n",
              "    <tr style=\"text-align: right;\">\n",
              "      <th></th>\n",
              "      <th>Cement (component 1)(kg in a m^3 mixture)</th>\n",
              "      <th>Blast Furnace Slag (component 2)(kg in a m^3 mixture)</th>\n",
              "      <th>Fly Ash (component 3)(kg in a m^3 mixture)</th>\n",
              "      <th>Water  (component 4)(kg in a m^3 mixture)</th>\n",
              "      <th>Superplasticizer (component 5)(kg in a m^3 mixture)</th>\n",
              "      <th>Coarse Aggregate  (component 6)(kg in a m^3 mixture)</th>\n",
              "      <th>Fine Aggregate (component 7)(kg in a m^3 mixture)</th>\n",
              "      <th>Age (day)</th>\n",
              "      <th>Concrete compressive strength(MPa, megapascals)</th>\n",
              "    </tr>\n",
              "  </thead>\n",
              "  <tbody>\n",
              "    <tr>\n",
              "      <th>Cement (component 1)(kg in a m^3 mixture)</th>\n",
              "      <td>1.000000</td>\n",
              "      <td>-0.275216</td>\n",
              "      <td>-0.397467</td>\n",
              "      <td>-0.081587</td>\n",
              "      <td>0.092386</td>\n",
              "      <td>-0.109349</td>\n",
              "      <td>-0.222718</td>\n",
              "      <td>0.081946</td>\n",
              "      <td>0.497832</td>\n",
              "    </tr>\n",
              "    <tr>\n",
              "      <th>Blast Furnace Slag (component 2)(kg in a m^3 mixture)</th>\n",
              "      <td>-0.275216</td>\n",
              "      <td>1.000000</td>\n",
              "      <td>-0.323580</td>\n",
              "      <td>0.107252</td>\n",
              "      <td>0.043270</td>\n",
              "      <td>-0.283999</td>\n",
              "      <td>-0.281603</td>\n",
              "      <td>-0.044246</td>\n",
              "      <td>0.134829</td>\n",
              "    </tr>\n",
              "    <tr>\n",
              "      <th>Fly Ash (component 3)(kg in a m^3 mixture)</th>\n",
              "      <td>-0.397467</td>\n",
              "      <td>-0.323580</td>\n",
              "      <td>1.000000</td>\n",
              "      <td>-0.256984</td>\n",
              "      <td>0.377503</td>\n",
              "      <td>-0.009961</td>\n",
              "      <td>0.079108</td>\n",
              "      <td>-0.154371</td>\n",
              "      <td>-0.105755</td>\n",
              "    </tr>\n",
              "    <tr>\n",
              "      <th>Water  (component 4)(kg in a m^3 mixture)</th>\n",
              "      <td>-0.081587</td>\n",
              "      <td>0.107252</td>\n",
              "      <td>-0.256984</td>\n",
              "      <td>1.000000</td>\n",
              "      <td>-0.657533</td>\n",
              "      <td>-0.182294</td>\n",
              "      <td>-0.450661</td>\n",
              "      <td>0.277618</td>\n",
              "      <td>-0.289633</td>\n",
              "    </tr>\n",
              "    <tr>\n",
              "      <th>Superplasticizer (component 5)(kg in a m^3 mixture)</th>\n",
              "      <td>0.092386</td>\n",
              "      <td>0.043270</td>\n",
              "      <td>0.377503</td>\n",
              "      <td>-0.657533</td>\n",
              "      <td>1.000000</td>\n",
              "      <td>-0.265999</td>\n",
              "      <td>0.222691</td>\n",
              "      <td>-0.192700</td>\n",
              "      <td>0.366079</td>\n",
              "    </tr>\n",
              "    <tr>\n",
              "      <th>Coarse Aggregate  (component 6)(kg in a m^3 mixture)</th>\n",
              "      <td>-0.109349</td>\n",
              "      <td>-0.283999</td>\n",
              "      <td>-0.009961</td>\n",
              "      <td>-0.182294</td>\n",
              "      <td>-0.265999</td>\n",
              "      <td>1.000000</td>\n",
              "      <td>-0.178481</td>\n",
              "      <td>-0.003016</td>\n",
              "      <td>-0.164935</td>\n",
              "    </tr>\n",
              "    <tr>\n",
              "      <th>Fine Aggregate (component 7)(kg in a m^3 mixture)</th>\n",
              "      <td>-0.222718</td>\n",
              "      <td>-0.281603</td>\n",
              "      <td>0.079108</td>\n",
              "      <td>-0.450661</td>\n",
              "      <td>0.222691</td>\n",
              "      <td>-0.178481</td>\n",
              "      <td>1.000000</td>\n",
              "      <td>-0.156095</td>\n",
              "      <td>-0.167241</td>\n",
              "    </tr>\n",
              "    <tr>\n",
              "      <th>Age (day)</th>\n",
              "      <td>0.081946</td>\n",
              "      <td>-0.044246</td>\n",
              "      <td>-0.154371</td>\n",
              "      <td>0.277618</td>\n",
              "      <td>-0.192700</td>\n",
              "      <td>-0.003016</td>\n",
              "      <td>-0.156095</td>\n",
              "      <td>1.000000</td>\n",
              "      <td>0.328873</td>\n",
              "    </tr>\n",
              "    <tr>\n",
              "      <th>Concrete compressive strength(MPa, megapascals)</th>\n",
              "      <td>0.497832</td>\n",
              "      <td>0.134829</td>\n",
              "      <td>-0.105755</td>\n",
              "      <td>-0.289633</td>\n",
              "      <td>0.366079</td>\n",
              "      <td>-0.164935</td>\n",
              "      <td>-0.167241</td>\n",
              "      <td>0.328873</td>\n",
              "      <td>1.000000</td>\n",
              "    </tr>\n",
              "  </tbody>\n",
              "</table>\n",
              "</div>"
            ],
            "text/plain": [
              "                                                    Cement (component 1)(kg in a m^3 mixture)  ...  Concrete compressive strength(MPa, megapascals) \n",
              "Cement (component 1)(kg in a m^3 mixture)                                            1.000000  ...                                          0.497832\n",
              "Blast Furnace Slag (component 2)(kg in a m^3 mi...                                  -0.275216  ...                                          0.134829\n",
              "Fly Ash (component 3)(kg in a m^3 mixture)                                          -0.397467  ...                                         -0.105755\n",
              "Water  (component 4)(kg in a m^3 mixture)                                           -0.081587  ...                                         -0.289633\n",
              "Superplasticizer (component 5)(kg in a m^3 mixt...                                   0.092386  ...                                          0.366079\n",
              "Coarse Aggregate  (component 6)(kg in a m^3 mix...                                  -0.109349  ...                                         -0.164935\n",
              "Fine Aggregate (component 7)(kg in a m^3 mixture)                                   -0.222718  ...                                         -0.167241\n",
              "Age (day)                                                                            0.081946  ...                                          0.328873\n",
              "Concrete compressive strength(MPa, megapascals)                                      0.497832  ...                                          1.000000\n",
              "\n",
              "[9 rows x 9 columns]"
            ]
          },
          "metadata": {
            "tags": []
          },
          "execution_count": 4
        }
      ]
    },
    {
      "cell_type": "code",
      "metadata": {
        "id": "eZR44XGCwvEJ",
        "outputId": "9a81a5bc-46ad-406b-b64f-8618152efbc6",
        "colab": {
          "base_uri": "https://localhost:8080/"
        }
      },
      "source": [
        "data.columns"
      ],
      "execution_count": 6,
      "outputs": [
        {
          "output_type": "execute_result",
          "data": {
            "text/plain": [
              "Index(['Cement (component 1)(kg in a m^3 mixture)',\n",
              "       'Blast Furnace Slag (component 2)(kg in a m^3 mixture)',\n",
              "       'Fly Ash (component 3)(kg in a m^3 mixture)',\n",
              "       'Water  (component 4)(kg in a m^3 mixture)',\n",
              "       'Superplasticizer (component 5)(kg in a m^3 mixture)',\n",
              "       'Coarse Aggregate  (component 6)(kg in a m^3 mixture)',\n",
              "       'Fine Aggregate (component 7)(kg in a m^3 mixture)', 'Age (day)',\n",
              "       'Concrete compressive strength(MPa, megapascals) '],\n",
              "      dtype='object')"
            ]
          },
          "metadata": {
            "tags": []
          },
          "execution_count": 6
        }
      ]
    },
    {
      "cell_type": "code",
      "metadata": {
        "id": "8V0t0MgHw5c_"
      },
      "source": [
        "features = ['Cement (component 1)(kg in a m^3 mixture)',\n",
        "       'Blast Furnace Slag (component 2)(kg in a m^3 mixture)',\n",
        "       'Fly Ash (component 3)(kg in a m^3 mixture)',\n",
        "       'Water  (component 4)(kg in a m^3 mixture)',\n",
        "       'Superplasticizer (component 5)(kg in a m^3 mixture)',\n",
        "       'Coarse Aggregate  (component 6)(kg in a m^3 mixture)',\n",
        "       'Fine Aggregate (component 7)(kg in a m^3 mixture)', 'Age (day)']\n",
        "\n",
        "X = data[features]\n",
        "\n",
        "prediction_target = ['Concrete compressive strength(MPa, megapascals) ']\n",
        "y = data[prediction_target]"
      ],
      "execution_count": 7,
      "outputs": []
    },
    {
      "cell_type": "markdown",
      "metadata": {
        "id": "h65kF7iyx0iS"
      },
      "source": [
        "# Split into Training,Test & Validation Data:"
      ]
    },
    {
      "cell_type": "code",
      "metadata": {
        "id": "s_0wOTxLxGYO",
        "outputId": "02343609-648b-4118-fc3e-d4cffe1cc7bf",
        "colab": {
          "base_uri": "https://localhost:8080/"
        }
      },
      "source": [
        "# Split into 50% Training, 30% Test and 20% Validation Data\n",
        "\n",
        "train_ratio = .5 # i.e. 50%\n",
        "test_ratio = .3 # 30%\n",
        "validation_ratio = .2 # 20%\n",
        "\n",
        "# train test split method\n",
        "from sklearn.model_selection import train_test_split\n",
        "x_remaining, x_test, y_remaining, y_test = train_test_split(X, y, test_size=test_ratio)\n",
        "\n",
        "# remaining dataset.\n",
        "remaining = 1 - test_ratio\n",
        "validation_adjusted = validation_ratio / remaining\n",
        "\n",
        "# train and validation splits\n",
        "x_train, x_validation, y_train, y_validation = train_test_split(x_remaining, y_remaining, test_size=validation_adjusted)\n",
        "\n",
        "print(x_train.shape, y_train.shape, x_test.shape, y_test.shape, x_validation.shape, y_validation.shape)"
      ],
      "execution_count": 9,
      "outputs": [
        {
          "output_type": "stream",
          "text": [
            "(514, 8) (514, 1) (309, 8) (309, 1) (207, 8) (207, 1)\n"
          ],
          "name": "stdout"
        }
      ]
    },
    {
      "cell_type": "markdown",
      "metadata": {
        "id": "z2LPxH1IytTx"
      },
      "source": [
        "# Model: Input Layer, 3 hidden layers & Output Layer"
      ]
    },
    {
      "cell_type": "code",
      "metadata": {
        "id": "iabWoFt-y5FP",
        "outputId": "545215ed-3b39-42b6-b140-2b8b7efd2ba7",
        "colab": {
          "base_uri": "https://localhost:8080/"
        }
      },
      "source": [
        "# build and train model\n",
        "import tensorflow as tf\n",
        "import tensorflow.keras as keras\n",
        "from tensorflow.keras.models import Sequential\n",
        "from tensorflow.keras.layers import Dense \n",
        "from tensorflow.keras.optimizers import *\n",
        "\n",
        "\n",
        "model = Sequential()\n",
        "tf.keras.backend.set_floatx('float64')\n",
        "model.add(tf.keras.layers.Dense(10, activation='relu'))\n",
        "model.add(tf.keras.layers.Dense(8, activation='relu'))\n",
        "model.add(tf.keras.layers.Dense(1,))\n",
        "model.compile(optimizer='rmsprop', loss='mse', metrics=['mae'])\n",
        "model.fit(x_train, y_train, epochs=100, validation_data=(x_validation, y_validation))"
      ],
      "execution_count": 10,
      "outputs": [
        {
          "output_type": "stream",
          "text": [
            "Epoch 1/100\n",
            "17/17 [==============================] - 1s 29ms/step - loss: 57838.2599 - mae: 227.5718 - val_loss: 13119.1194 - val_mae: 102.5212\n",
            "Epoch 2/100\n",
            "17/17 [==============================] - 0s 4ms/step - loss: 9141.2525 - mae: 79.9955 - val_loss: 2571.0378 - val_mae: 38.4041\n",
            "Epoch 3/100\n",
            "17/17 [==============================] - 0s 4ms/step - loss: 2475.2949 - mae: 38.5304 - val_loss: 2068.6117 - val_mae: 34.9164\n",
            "Epoch 4/100\n",
            "17/17 [==============================] - 0s 4ms/step - loss: 1971.1408 - mae: 33.9224 - val_loss: 1805.2749 - val_mae: 31.7270\n",
            "Epoch 5/100\n",
            "17/17 [==============================] - 0s 5ms/step - loss: 1405.5017 - mae: 28.4057 - val_loss: 974.9754 - val_mae: 24.0003\n",
            "Epoch 6/100\n",
            "17/17 [==============================] - 0s 4ms/step - loss: 821.7784 - mae: 22.3610 - val_loss: 815.1496 - val_mae: 22.4898\n",
            "Epoch 7/100\n",
            "17/17 [==============================] - 0s 4ms/step - loss: 662.6626 - mae: 20.3058 - val_loss: 786.4010 - val_mae: 22.3895\n",
            "Epoch 8/100\n",
            "17/17 [==============================] - 0s 5ms/step - loss: 523.9493 - mae: 18.6667 - val_loss: 640.2671 - val_mae: 21.0083\n",
            "Epoch 9/100\n",
            "17/17 [==============================] - 0s 5ms/step - loss: 418.1238 - mae: 16.5302 - val_loss: 387.8183 - val_mae: 16.1162\n",
            "Epoch 10/100\n",
            "17/17 [==============================] - 0s 5ms/step - loss: 350.0202 - mae: 15.3625 - val_loss: 317.8478 - val_mae: 14.5512\n",
            "Epoch 11/100\n",
            "17/17 [==============================] - 0s 4ms/step - loss: 307.6028 - mae: 14.5269 - val_loss: 290.1060 - val_mae: 13.8795\n",
            "Epoch 12/100\n",
            "17/17 [==============================] - 0s 4ms/step - loss: 246.9926 - mae: 12.6468 - val_loss: 750.6640 - val_mae: 22.8400\n",
            "Epoch 13/100\n",
            "17/17 [==============================] - 0s 4ms/step - loss: 302.2512 - mae: 14.3722 - val_loss: 277.4766 - val_mae: 13.7699\n",
            "Epoch 14/100\n",
            "17/17 [==============================] - 0s 4ms/step - loss: 212.3081 - mae: 12.0298 - val_loss: 283.9955 - val_mae: 13.5152\n",
            "Epoch 15/100\n",
            "17/17 [==============================] - 0s 4ms/step - loss: 220.3623 - mae: 11.9437 - val_loss: 283.4435 - val_mae: 13.8451\n",
            "Epoch 16/100\n",
            "17/17 [==============================] - 0s 5ms/step - loss: 202.7441 - mae: 11.5323 - val_loss: 379.2949 - val_mae: 15.4819\n",
            "Epoch 17/100\n",
            "17/17 [==============================] - 0s 4ms/step - loss: 177.7480 - mae: 10.7868 - val_loss: 206.0388 - val_mae: 11.9051\n",
            "Epoch 18/100\n",
            "17/17 [==============================] - 0s 4ms/step - loss: 167.4723 - mae: 10.5726 - val_loss: 191.3678 - val_mae: 11.4375\n",
            "Epoch 19/100\n",
            "17/17 [==============================] - 0s 4ms/step - loss: 158.8806 - mae: 10.2991 - val_loss: 262.9177 - val_mae: 13.3351\n",
            "Epoch 20/100\n",
            "17/17 [==============================] - 0s 5ms/step - loss: 208.9040 - mae: 11.6717 - val_loss: 176.4836 - val_mae: 10.6843\n",
            "Epoch 21/100\n",
            "17/17 [==============================] - 0s 5ms/step - loss: 172.8884 - mae: 10.7398 - val_loss: 165.6343 - val_mae: 10.6560\n",
            "Epoch 22/100\n",
            "17/17 [==============================] - 0s 5ms/step - loss: 139.9597 - mae: 9.7340 - val_loss: 535.6191 - val_mae: 19.9967\n",
            "Epoch 23/100\n",
            "17/17 [==============================] - 0s 5ms/step - loss: 157.7243 - mae: 10.1856 - val_loss: 149.8107 - val_mae: 10.0293\n",
            "Epoch 24/100\n",
            "17/17 [==============================] - 0s 5ms/step - loss: 152.3465 - mae: 10.0603 - val_loss: 228.2123 - val_mae: 11.7048\n",
            "Epoch 25/100\n",
            "17/17 [==============================] - 0s 5ms/step - loss: 126.2222 - mae: 9.0894 - val_loss: 178.4208 - val_mae: 11.0370\n",
            "Epoch 26/100\n",
            "17/17 [==============================] - 0s 4ms/step - loss: 121.8238 - mae: 8.9108 - val_loss: 271.6098 - val_mae: 13.3164\n",
            "Epoch 27/100\n",
            "17/17 [==============================] - 0s 4ms/step - loss: 128.8276 - mae: 9.0650 - val_loss: 302.3042 - val_mae: 14.2283\n",
            "Epoch 28/100\n",
            "17/17 [==============================] - 0s 4ms/step - loss: 153.6619 - mae: 9.9587 - val_loss: 181.1189 - val_mae: 11.0679\n",
            "Epoch 29/100\n",
            "17/17 [==============================] - 0s 4ms/step - loss: 134.4086 - mae: 9.2901 - val_loss: 358.9547 - val_mae: 16.0997\n",
            "Epoch 30/100\n",
            "17/17 [==============================] - 0s 5ms/step - loss: 148.3401 - mae: 9.6994 - val_loss: 145.4313 - val_mae: 9.7941\n",
            "Epoch 31/100\n",
            "17/17 [==============================] - 0s 5ms/step - loss: 118.9813 - mae: 8.8238 - val_loss: 216.5234 - val_mae: 12.1981\n",
            "Epoch 32/100\n",
            "17/17 [==============================] - 0s 4ms/step - loss: 140.0415 - mae: 9.2163 - val_loss: 169.9819 - val_mae: 10.1695\n",
            "Epoch 33/100\n",
            "17/17 [==============================] - 0s 5ms/step - loss: 128.4988 - mae: 9.2076 - val_loss: 254.0682 - val_mae: 13.4707\n",
            "Epoch 34/100\n",
            "17/17 [==============================] - 0s 4ms/step - loss: 146.7379 - mae: 9.4235 - val_loss: 241.8870 - val_mae: 13.0226\n",
            "Epoch 35/100\n",
            "17/17 [==============================] - 0s 4ms/step - loss: 146.1368 - mae: 9.5545 - val_loss: 109.1882 - val_mae: 8.0677\n",
            "Epoch 36/100\n",
            "17/17 [==============================] - 0s 5ms/step - loss: 115.3799 - mae: 8.4744 - val_loss: 106.4419 - val_mae: 8.1179\n",
            "Epoch 37/100\n",
            "17/17 [==============================] - 0s 4ms/step - loss: 96.7744 - mae: 7.6841 - val_loss: 289.8715 - val_mae: 14.7290\n",
            "Epoch 38/100\n",
            "17/17 [==============================] - 0s 4ms/step - loss: 128.8159 - mae: 8.7368 - val_loss: 186.1024 - val_mae: 11.2961\n",
            "Epoch 39/100\n",
            "17/17 [==============================] - 0s 4ms/step - loss: 121.2175 - mae: 8.7722 - val_loss: 371.6108 - val_mae: 16.8145\n",
            "Epoch 40/100\n",
            "17/17 [==============================] - 0s 4ms/step - loss: 128.9712 - mae: 8.9585 - val_loss: 213.8662 - val_mae: 12.3744\n",
            "Epoch 41/100\n",
            "17/17 [==============================] - 0s 4ms/step - loss: 120.0630 - mae: 8.6736 - val_loss: 99.9037 - val_mae: 7.6718\n",
            "Epoch 42/100\n",
            "17/17 [==============================] - 0s 5ms/step - loss: 94.6766 - mae: 7.7519 - val_loss: 100.3464 - val_mae: 7.8145\n",
            "Epoch 43/100\n",
            "17/17 [==============================] - 0s 5ms/step - loss: 87.2592 - mae: 7.3176 - val_loss: 167.0407 - val_mae: 10.6830\n",
            "Epoch 44/100\n",
            "17/17 [==============================] - 0s 4ms/step - loss: 107.4667 - mae: 8.3949 - val_loss: 276.7760 - val_mae: 14.5591\n",
            "Epoch 45/100\n",
            "17/17 [==============================] - 0s 4ms/step - loss: 119.9956 - mae: 8.4493 - val_loss: 264.4972 - val_mae: 14.1802\n",
            "Epoch 46/100\n",
            "17/17 [==============================] - 0s 5ms/step - loss: 129.7656 - mae: 8.8090 - val_loss: 494.4625 - val_mae: 20.1959\n",
            "Epoch 47/100\n",
            "17/17 [==============================] - 0s 4ms/step - loss: 183.6716 - mae: 10.0396 - val_loss: 296.0050 - val_mae: 14.7274\n",
            "Epoch 48/100\n",
            "17/17 [==============================] - 0s 4ms/step - loss: 100.7598 - mae: 7.8813 - val_loss: 414.3087 - val_mae: 18.1737\n",
            "Epoch 49/100\n",
            "17/17 [==============================] - 0s 4ms/step - loss: 114.1091 - mae: 8.3690 - val_loss: 431.0841 - val_mae: 18.8473\n",
            "Epoch 50/100\n",
            "17/17 [==============================] - 0s 4ms/step - loss: 150.9530 - mae: 9.5524 - val_loss: 89.7600 - val_mae: 7.1609\n",
            "Epoch 51/100\n",
            "17/17 [==============================] - 0s 5ms/step - loss: 91.0647 - mae: 7.5270 - val_loss: 104.0850 - val_mae: 7.7135\n",
            "Epoch 52/100\n",
            "17/17 [==============================] - 0s 5ms/step - loss: 95.1307 - mae: 7.6031 - val_loss: 88.7330 - val_mae: 7.1231\n",
            "Epoch 53/100\n",
            "17/17 [==============================] - 0s 4ms/step - loss: 86.3437 - mae: 7.3148 - val_loss: 104.5172 - val_mae: 8.0809\n",
            "Epoch 54/100\n",
            "17/17 [==============================] - 0s 5ms/step - loss: 87.5526 - mae: 7.5065 - val_loss: 103.5484 - val_mae: 7.7129\n",
            "Epoch 55/100\n",
            "17/17 [==============================] - 0s 4ms/step - loss: 95.9532 - mae: 7.9145 - val_loss: 161.4026 - val_mae: 10.6193\n",
            "Epoch 56/100\n",
            "17/17 [==============================] - 0s 4ms/step - loss: 88.2496 - mae: 7.2980 - val_loss: 145.5791 - val_mae: 9.5734\n",
            "Epoch 57/100\n",
            "17/17 [==============================] - 0s 5ms/step - loss: 95.2315 - mae: 7.7541 - val_loss: 96.2407 - val_mae: 7.4326\n",
            "Epoch 58/100\n",
            "17/17 [==============================] - 0s 5ms/step - loss: 83.7808 - mae: 7.0392 - val_loss: 85.7962 - val_mae: 7.0221\n",
            "Epoch 59/100\n",
            "17/17 [==============================] - 0s 4ms/step - loss: 73.0689 - mae: 6.5641 - val_loss: 92.2724 - val_mae: 7.2648\n",
            "Epoch 60/100\n",
            "17/17 [==============================] - 0s 4ms/step - loss: 73.0952 - mae: 6.4873 - val_loss: 201.0614 - val_mae: 11.7855\n",
            "Epoch 61/100\n",
            "17/17 [==============================] - 0s 4ms/step - loss: 83.2489 - mae: 6.9749 - val_loss: 125.6251 - val_mae: 9.1648\n",
            "Epoch 62/100\n",
            "17/17 [==============================] - 0s 5ms/step - loss: 90.3891 - mae: 7.7645 - val_loss: 219.6845 - val_mae: 12.8114\n",
            "Epoch 63/100\n",
            "17/17 [==============================] - 0s 5ms/step - loss: 110.8877 - mae: 8.2737 - val_loss: 117.7632 - val_mae: 8.4494\n",
            "Epoch 64/100\n",
            "17/17 [==============================] - 0s 5ms/step - loss: 88.2503 - mae: 7.2088 - val_loss: 339.9952 - val_mae: 16.6004\n",
            "Epoch 65/100\n",
            "17/17 [==============================] - 0s 4ms/step - loss: 129.0390 - mae: 8.4300 - val_loss: 79.8400 - val_mae: 6.6977\n",
            "Epoch 66/100\n",
            "17/17 [==============================] - 0s 5ms/step - loss: 75.4029 - mae: 6.8168 - val_loss: 231.0889 - val_mae: 13.2416\n",
            "Epoch 67/100\n",
            "17/17 [==============================] - 0s 5ms/step - loss: 115.8715 - mae: 8.4930 - val_loss: 177.8519 - val_mae: 10.9743\n",
            "Epoch 68/100\n",
            "17/17 [==============================] - 0s 4ms/step - loss: 105.2006 - mae: 8.3524 - val_loss: 111.2586 - val_mae: 8.5309\n",
            "Epoch 69/100\n",
            "17/17 [==============================] - 0s 5ms/step - loss: 81.1672 - mae: 6.8018 - val_loss: 150.8208 - val_mae: 10.2587\n",
            "Epoch 70/100\n",
            "17/17 [==============================] - 0s 5ms/step - loss: 77.4307 - mae: 6.8881 - val_loss: 78.3840 - val_mae: 6.6467\n",
            "Epoch 71/100\n",
            "17/17 [==============================] - 0s 4ms/step - loss: 67.4550 - mae: 6.4008 - val_loss: 272.3539 - val_mae: 14.6197\n",
            "Epoch 72/100\n",
            "17/17 [==============================] - 0s 4ms/step - loss: 110.9877 - mae: 8.1664 - val_loss: 202.7438 - val_mae: 12.2645\n",
            "Epoch 73/100\n",
            "17/17 [==============================] - 0s 4ms/step - loss: 111.4839 - mae: 8.5129 - val_loss: 152.6731 - val_mae: 10.3708\n",
            "Epoch 74/100\n",
            "17/17 [==============================] - 0s 4ms/step - loss: 105.3592 - mae: 8.2297 - val_loss: 136.0255 - val_mae: 9.3443\n",
            "Epoch 75/100\n",
            "17/17 [==============================] - 0s 4ms/step - loss: 85.5565 - mae: 7.2118 - val_loss: 189.7304 - val_mae: 11.8060\n",
            "Epoch 76/100\n",
            "17/17 [==============================] - 0s 4ms/step - loss: 87.4682 - mae: 7.6293 - val_loss: 135.2164 - val_mae: 9.3488\n",
            "Epoch 77/100\n",
            "17/17 [==============================] - 0s 5ms/step - loss: 77.6892 - mae: 7.1613 - val_loss: 76.9618 - val_mae: 6.6708\n",
            "Epoch 78/100\n",
            "17/17 [==============================] - 0s 5ms/step - loss: 87.9966 - mae: 7.3125 - val_loss: 148.4615 - val_mae: 10.2330\n",
            "Epoch 79/100\n",
            "17/17 [==============================] - 0s 13ms/step - loss: 80.6477 - mae: 6.9240 - val_loss: 114.0020 - val_mae: 8.4356\n",
            "Epoch 80/100\n",
            "17/17 [==============================] - 0s 5ms/step - loss: 81.9246 - mae: 7.1702 - val_loss: 78.3169 - val_mae: 6.6409\n",
            "Epoch 81/100\n",
            "17/17 [==============================] - 0s 4ms/step - loss: 93.4830 - mae: 7.4928 - val_loss: 132.6868 - val_mae: 9.6016\n",
            "Epoch 82/100\n",
            "17/17 [==============================] - 0s 5ms/step - loss: 88.9056 - mae: 7.2960 - val_loss: 142.5638 - val_mae: 9.6505\n",
            "Epoch 83/100\n",
            "17/17 [==============================] - 0s 5ms/step - loss: 74.9182 - mae: 6.6936 - val_loss: 78.8883 - val_mae: 6.6625\n",
            "Epoch 84/100\n",
            "17/17 [==============================] - 0s 4ms/step - loss: 75.4000 - mae: 6.8334 - val_loss: 184.3714 - val_mae: 11.3498\n",
            "Epoch 85/100\n",
            "17/17 [==============================] - 0s 4ms/step - loss: 82.6441 - mae: 7.2701 - val_loss: 165.3067 - val_mae: 10.9127\n",
            "Epoch 86/100\n",
            "17/17 [==============================] - 0s 4ms/step - loss: 93.4119 - mae: 7.7033 - val_loss: 81.3975 - val_mae: 7.0039\n",
            "Epoch 87/100\n",
            "17/17 [==============================] - 0s 4ms/step - loss: 75.7764 - mae: 6.8603 - val_loss: 97.3573 - val_mae: 7.9106\n",
            "Epoch 88/100\n",
            "17/17 [==============================] - 0s 4ms/step - loss: 76.4022 - mae: 6.8382 - val_loss: 247.4218 - val_mae: 13.5824\n",
            "Epoch 89/100\n",
            "17/17 [==============================] - 0s 5ms/step - loss: 100.5852 - mae: 7.6744 - val_loss: 156.5007 - val_mae: 10.5533\n",
            "Epoch 90/100\n",
            "17/17 [==============================] - 0s 5ms/step - loss: 101.3621 - mae: 8.0282 - val_loss: 87.6711 - val_mae: 7.1879\n",
            "Epoch 91/100\n",
            "17/17 [==============================] - 0s 4ms/step - loss: 63.8935 - mae: 6.2488 - val_loss: 258.8954 - val_mae: 13.9849\n",
            "Epoch 92/100\n",
            "17/17 [==============================] - 0s 4ms/step - loss: 97.0433 - mae: 7.7649 - val_loss: 89.3660 - val_mae: 7.2771\n",
            "Epoch 93/100\n",
            "17/17 [==============================] - 0s 4ms/step - loss: 86.0937 - mae: 7.3293 - val_loss: 108.1185 - val_mae: 8.2064\n",
            "Epoch 94/100\n",
            "17/17 [==============================] - 0s 4ms/step - loss: 87.8299 - mae: 7.4326 - val_loss: 112.8500 - val_mae: 8.4579\n",
            "Epoch 95/100\n",
            "17/17 [==============================] - 0s 5ms/step - loss: 78.1901 - mae: 7.0874 - val_loss: 204.2330 - val_mae: 12.3527\n",
            "Epoch 96/100\n",
            "17/17 [==============================] - 0s 4ms/step - loss: 112.9978 - mae: 8.5444 - val_loss: 72.5661 - val_mae: 6.4684\n",
            "Epoch 97/100\n",
            "17/17 [==============================] - 0s 5ms/step - loss: 67.3529 - mae: 6.3271 - val_loss: 125.6565 - val_mae: 9.0512\n",
            "Epoch 98/100\n",
            "17/17 [==============================] - 0s 4ms/step - loss: 97.2090 - mae: 7.7377 - val_loss: 75.5112 - val_mae: 6.5758\n",
            "Epoch 99/100\n",
            "17/17 [==============================] - 0s 5ms/step - loss: 82.6687 - mae: 6.9809 - val_loss: 80.1049 - val_mae: 6.7879\n",
            "Epoch 100/100\n",
            "17/17 [==============================] - 0s 4ms/step - loss: 67.1358 - mae: 6.5083 - val_loss: 122.9295 - val_mae: 9.1331\n"
          ],
          "name": "stdout"
        },
        {
          "output_type": "execute_result",
          "data": {
            "text/plain": [
              "<tensorflow.python.keras.callbacks.History at 0x7fb7964eaf50>"
            ]
          },
          "metadata": {
            "tags": []
          },
          "execution_count": 10
        }
      ]
    },
    {
      "cell_type": "markdown",
      "metadata": {
        "id": "1at3W1S8zGaC"
      },
      "source": [
        "# Evaluation"
      ]
    },
    {
      "cell_type": "code",
      "metadata": {
        "id": "MSPtLcSyzZ-E",
        "outputId": "2e435fb8-5e48-44d9-d658-022441e7d7f5",
        "colab": {
          "base_uri": "https://localhost:8080/"
        }
      },
      "source": [
        "# test values\n",
        "evalution_test = model.evaluate(x_test)"
      ],
      "execution_count": 11,
      "outputs": [
        {
          "output_type": "stream",
          "text": [
            "10/10 [==============================] - 0s 2ms/step - loss: 0.0000e+00 - mae: 0.0000e+00\n"
          ],
          "name": "stdout"
        }
      ]
    },
    {
      "cell_type": "code",
      "metadata": {
        "id": "rC7xA5JLzgui",
        "outputId": "0e7bb324-0fb9-49ff-c78c-9bb7e1b333b9",
        "colab": {
          "base_uri": "https://localhost:8080/"
        }
      },
      "source": [
        "# validation values\n",
        "evaluation_validation = model.evaluate(x_validation)"
      ],
      "execution_count": 12,
      "outputs": [
        {
          "output_type": "stream",
          "text": [
            "7/7 [==============================] - 0s 2ms/step - loss: 0.0000e+00 - mae: 0.0000e+00\n"
          ],
          "name": "stdout"
        }
      ]
    },
    {
      "cell_type": "markdown",
      "metadata": {
        "id": "h-ZV3TjezqWB"
      },
      "source": [
        "# Prediction"
      ]
    },
    {
      "cell_type": "code",
      "metadata": {
        "id": "koM404MFzttS",
        "outputId": "96e3993f-842f-410c-bc07-f0ded04de193",
        "colab": {
          "base_uri": "https://localhost:8080/"
        }
      },
      "source": [
        "# test_values\n",
        "pred_test = model.predict(x_test[0:5])\n",
        "print(pred_test)"
      ],
      "execution_count": 14,
      "outputs": [
        {
          "output_type": "stream",
          "text": [
            "[[53.95022921]\n",
            " [47.53776079]\n",
            " [65.91096642]\n",
            " [44.82028999]\n",
            " [49.9638022 ]]\n"
          ],
          "name": "stdout"
        }
      ]
    },
    {
      "cell_type": "code",
      "metadata": {
        "id": "4RF4vlqkzxbx",
        "outputId": "f7b6c0c8-a31c-4c0a-85fa-3e4ccc17fded",
        "colab": {
          "base_uri": "https://localhost:8080/"
        }
      },
      "source": [
        "# validation values\n",
        "prediction_validation = model.predict(x_validation)\n",
        "print(prediction_validation)"
      ],
      "execution_count": 15,
      "outputs": [
        {
          "output_type": "stream",
          "text": [
            "[[31.67674178]\n",
            " [14.85100357]\n",
            " [47.81611836]\n",
            " [65.06384218]\n",
            " [27.10860536]\n",
            " [19.24912383]\n",
            " [51.19611847]\n",
            " [40.64345589]\n",
            " [12.58827285]\n",
            " [50.08121149]\n",
            " [65.94882444]\n",
            " [24.38008952]\n",
            " [29.35051182]\n",
            " [63.13014407]\n",
            " [53.01150266]\n",
            " [32.97486796]\n",
            " [36.38480341]\n",
            " [30.56249251]\n",
            " [37.71319218]\n",
            " [58.43987141]\n",
            " [33.24217179]\n",
            " [50.97698408]\n",
            " [29.43708261]\n",
            " [29.60535306]\n",
            " [41.45440765]\n",
            " [41.87785526]\n",
            " [58.31401798]\n",
            " [45.93346398]\n",
            " [32.10617262]\n",
            " [30.99585931]\n",
            " [31.6862712 ]\n",
            " [24.11359733]\n",
            " [73.45698854]\n",
            " [63.11414396]\n",
            " [61.63760781]\n",
            " [28.0736612 ]\n",
            " [62.84415658]\n",
            " [41.95111717]\n",
            " [45.32721032]\n",
            " [71.01001811]\n",
            " [27.9724972 ]\n",
            " [53.04750511]\n",
            " [37.28803968]\n",
            " [73.45698854]\n",
            " [61.70831444]\n",
            " [31.1679491 ]\n",
            " [29.5126686 ]\n",
            " [49.88855556]\n",
            " [53.41994378]\n",
            " [52.64209529]\n",
            " [35.42046739]\n",
            " [58.15101405]\n",
            " [43.34988359]\n",
            " [43.66164783]\n",
            " [43.88255602]\n",
            " [45.14535769]\n",
            " [53.39751723]\n",
            " [29.60946208]\n",
            " [35.3660172 ]\n",
            " [25.54559705]\n",
            " [50.91945667]\n",
            " [30.9904429 ]\n",
            " [43.55140264]\n",
            " [22.98292129]\n",
            " [56.52553061]\n",
            " [49.91169935]\n",
            " [65.32096176]\n",
            " [32.81910863]\n",
            " [20.3391867 ]\n",
            " [52.98479371]\n",
            " [54.28514822]\n",
            " [51.34119774]\n",
            " [24.83076542]\n",
            " [28.64057672]\n",
            " [24.92291801]\n",
            " [32.76711739]\n",
            " [49.63655028]\n",
            " [56.25483598]\n",
            " [31.79061951]\n",
            " [57.17595794]\n",
            " [73.62801881]\n",
            " [73.63829768]\n",
            " [44.13386369]\n",
            " [44.37932074]\n",
            " [18.60343446]\n",
            " [56.39471744]\n",
            " [25.97527078]\n",
            " [35.48207065]\n",
            " [26.08165489]\n",
            " [50.78373229]\n",
            " [54.22463581]\n",
            " [67.23569174]\n",
            " [54.02420557]\n",
            " [32.06475126]\n",
            " [33.08611529]\n",
            " [46.24867472]\n",
            " [49.18320044]\n",
            " [31.22862705]\n",
            " [61.48367352]\n",
            " [23.41178684]\n",
            " [65.06384218]\n",
            " [53.33915323]\n",
            " [53.61252672]\n",
            " [41.65696454]\n",
            " [71.90634442]\n",
            " [49.27203381]\n",
            " [26.9170204 ]\n",
            " [47.64488809]\n",
            " [20.46790199]\n",
            " [55.95890883]\n",
            " [69.59154259]\n",
            " [49.58964739]\n",
            " [45.87471358]\n",
            " [44.13836853]\n",
            " [47.60952777]\n",
            " [52.52056867]\n",
            " [47.61568163]\n",
            " [55.15338811]\n",
            " [50.18171811]\n",
            " [35.92966396]\n",
            " [37.54763801]\n",
            " [33.13056646]\n",
            " [56.29670324]\n",
            " [45.29080082]\n",
            " [52.67193673]\n",
            " [55.09601782]\n",
            " [34.25099321]\n",
            " [34.04245277]\n",
            " [21.89092597]\n",
            " [33.96205322]\n",
            " [40.98961321]\n",
            " [47.08294358]\n",
            " [67.07086858]\n",
            " [32.23893145]\n",
            " [40.87159153]\n",
            " [54.06936954]\n",
            " [29.8735104 ]\n",
            " [26.36679304]\n",
            " [20.21677364]\n",
            " [50.74305653]\n",
            " [35.81921436]\n",
            " [20.83753541]\n",
            " [25.05617441]\n",
            " [41.60970247]\n",
            " [41.95747096]\n",
            " [44.35117497]\n",
            " [56.86227771]\n",
            " [50.86910807]\n",
            " [45.58435226]\n",
            " [30.54868172]\n",
            " [23.54793285]\n",
            " [29.90199309]\n",
            " [57.5610536 ]\n",
            " [54.4749732 ]\n",
            " [57.96593523]\n",
            " [52.60338109]\n",
            " [36.84866479]\n",
            " [16.65332965]\n",
            " [35.07401068]\n",
            " [47.95370447]\n",
            " [36.81306378]\n",
            " [51.63759933]\n",
            " [65.60972562]\n",
            " [58.00032793]\n",
            " [18.55434829]\n",
            " [55.75912284]\n",
            " [27.02797302]\n",
            " [34.19539095]\n",
            " [50.12208458]\n",
            " [31.13818627]\n",
            " [50.74068683]\n",
            " [52.60338109]\n",
            " [33.90708659]\n",
            " [41.70385113]\n",
            " [36.75315693]\n",
            " [56.5393935 ]\n",
            " [48.57443799]\n",
            " [51.23771832]\n",
            " [63.02028552]\n",
            " [29.42446865]\n",
            " [69.76257287]\n",
            " [21.74113256]\n",
            " [25.14496588]\n",
            " [38.40464666]\n",
            " [24.63656414]\n",
            " [29.43448672]\n",
            " [52.00495022]\n",
            " [35.8377697 ]\n",
            " [73.80932796]\n",
            " [61.70831444]\n",
            " [44.75513584]\n",
            " [22.31168333]\n",
            " [62.03056277]\n",
            " [37.90096548]\n",
            " [73.45698854]\n",
            " [61.60827762]\n",
            " [32.51878888]\n",
            " [49.961871  ]\n",
            " [26.51252583]\n",
            " [41.58701924]\n",
            " [43.45986996]\n",
            " [19.89940083]\n",
            " [45.33732026]\n",
            " [61.39457139]\n",
            " [55.84389627]\n",
            " [32.94152168]\n",
            " [55.55966225]]\n"
          ],
          "name": "stdout"
        }
      ]
    },
    {
      "cell_type": "code",
      "metadata": {
        "id": "gPTSEDwQ0Hqe",
        "outputId": "52433a54-a91f-44da-cba6-685496d308d6",
        "colab": {
          "base_uri": "https://localhost:8080/"
        }
      },
      "source": [
        "from sklearn.metrics import mean_absolute_error\n",
        "MAE = mean_absolute_error(y_validation, prediction_validation)\n",
        "print(MAE)"
      ],
      "execution_count": 16,
      "outputs": [
        {
          "output_type": "stream",
          "text": [
            "9.133129028964191\n"
          ],
          "name": "stdout"
        }
      ]
    }
  ]
}